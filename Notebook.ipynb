{
 "cells": [
  {
   "cell_type": "markdown",
   "metadata": {
    "id": "H9wADwK78DCz"
   },
   "source": [
    "# Proyek Analisis Data: E-Commerce Public Dataset\n",
    "- **Nama:** Zhafran An-Nawawi\n",
    "- **Email:** zhafran.annawawi@gmail.com\n",
    "- **ID Dicoding:** MS113D5Y0542"
   ]
  },
  {
   "cell_type": "markdown",
   "metadata": {
    "id": "eE0raob58DC0"
   },
   "source": [
    "## Menentukan Pertanyaan Bisnis"
   ]
  },
  {
   "cell_type": "markdown",
   "metadata": {
    "id": "GmQeQ5YF8DC0"
   },
   "source": [
    "## Pertanyaan 1\n",
    "- Bagaimana tren pembelian pelanggan dalam enam bulan terakhir berdasarkan kategori produk?\n",
    "\n",
    "## Pertanyaan 2\n",
    "- Apakah ada pola dalam kategori produk yang dibeli oleh pelanggan one-time buyer?"
   ]
  },
  {
   "cell_type": "markdown",
   "metadata": {
    "id": "H-z4QGlO8DC1"
   },
   "source": [
    "## Import Semua Packages/Library yang Digunakan"
   ]
  },
  {
   "cell_type": "code",
   "execution_count": 124,
   "metadata": {
    "id": "FVYwaObI8DC1"
   },
   "outputs": [],
   "source": [
    "# Import library utama\n",
    "import pandas as pd  # Manipulasi data\n",
    "import numpy as np  # Operasi numerik\n",
    "import matplotlib.pyplot as plt  # Visualisasi dasar\n",
    "import seaborn as sns  # Visualisasi lebih keren\n",
    "\n",
    "# Library tambahan untuk analisis lebih dalam\n",
    "import datetime as dt  # Untuk manipulasi tanggal\n",
    "from scipy import stats  # Untuk analisis statistik\n",
    "from sklearn.cluster import KMeans  # Untuk clustering\n",
    "from sklearn.preprocessing import StandardScaler  # Normalisasi data\n",
    "\n",
    "# Konfigurasi visualisasi\n",
    "sns.set(style=\"whitegrid\")\n",
    "plt.style.use(\"ggplot\")"
   ]
  },
  {
   "cell_type": "markdown",
   "metadata": {
    "id": "h_Sh51Xy8DC1"
   },
   "source": [
    "## Data Wrangling"
   ]
  },
  {
   "cell_type": "markdown",
   "metadata": {
    "id": "sXU2GBYu8DC1"
   },
   "source": [
    "### Gathering Data"
   ]
  },
  {
   "cell_type": "code",
   "execution_count": 102,
   "metadata": {
    "id": "zjCBk1BI8DC1"
   },
   "outputs": [
    {
     "name": "stdout",
     "output_type": "stream",
     "text": [
      "==================================================\n",
      "Preview Dataset Orders\n",
      "==================================================\n",
      "                           order_id                       customer_id  \\\n",
      "0  e481f51cbdc54678b7cc49136f2d6af7  9ef432eb6251297304e76186b10a928d   \n",
      "1  53cdb2fc8bc7dce0b6741e2150273451  b0830fb4747a6c6d20dea0b8c802d7ef   \n",
      "2  47770eb9100c2d0c44946d9cf07ec65d  41ce2a54c0b03bf3443c3d931a367089   \n",
      "3  949d5b44dbf5de918fe9c16f97b45f8a  f88197465ea7920adcdbec7375364d82   \n",
      "4  ad21c59c0840e6cb83a9ceb5573f8159  8ab97904e6daea8866dbdbc4fb7aad2c   \n",
      "\n",
      "  order_status order_purchase_timestamp    order_approved_at  \\\n",
      "0    delivered      2017-10-02 10:56:33  2017-10-02 11:07:15   \n",
      "1    delivered      2018-07-24 20:41:37  2018-07-26 03:24:27   \n",
      "2    delivered      2018-08-08 08:38:49  2018-08-08 08:55:23   \n",
      "3    delivered      2017-11-18 19:28:06  2017-11-18 19:45:59   \n",
      "4    delivered      2018-02-13 21:18:39  2018-02-13 22:20:29   \n",
      "\n",
      "  order_delivered_carrier_date order_delivered_customer_date  \\\n",
      "0          2017-10-04 19:55:00           2017-10-10 21:25:13   \n",
      "1          2018-07-26 14:31:00           2018-08-07 15:27:45   \n",
      "2          2018-08-08 13:50:00           2018-08-17 18:06:29   \n",
      "3          2017-11-22 13:39:59           2017-12-02 00:28:42   \n",
      "4          2018-02-14 19:46:34           2018-02-16 18:17:02   \n",
      "\n",
      "  order_estimated_delivery_date  \n",
      "0           2017-10-18 00:00:00  \n",
      "1           2018-08-13 00:00:00  \n",
      "2           2018-09-04 00:00:00  \n",
      "3           2017-12-15 00:00:00  \n",
      "4           2018-02-26 00:00:00   \n",
      "\n",
      "==================================================\n",
      "Preview Dataset Order Items\n",
      "==================================================\n",
      "                           order_id  order_item_id  \\\n",
      "0  00010242fe8c5a6d1ba2dd792cb16214              1   \n",
      "1  00018f77f2f0320c557190d7a144bdd3              1   \n",
      "2  000229ec398224ef6ca0657da4fc703e              1   \n",
      "3  00024acbcdf0a6daa1e931b038114c75              1   \n",
      "4  00042b26cf59d7ce69dfabb4e55b4fd9              1   \n",
      "\n",
      "                         product_id                         seller_id  \\\n",
      "0  4244733e06e7ecb4970a6e2683c13e61  48436dade18ac8b2bce089ec2a041202   \n",
      "1  e5f2d52b802189ee658865ca93d83a8f  dd7ddc04e1b6c2c614352b383efe2d36   \n",
      "2  c777355d18b72b67abbeef9df44fd0fd  5b51032eddd242adc84c38acab88f23d   \n",
      "3  7634da152a4610f1595efa32f14722fc  9d7a1d34a5052409006425275ba1c2b4   \n",
      "4  ac6c3623068f30de03045865e4e10089  df560393f3a51e74553ab94004ba5c87   \n",
      "\n",
      "   shipping_limit_date   price  freight_value  \n",
      "0  2017-09-19 09:45:35   58.90          13.29  \n",
      "1  2017-05-03 11:05:13  239.90          19.93  \n",
      "2  2018-01-18 14:48:30  199.00          17.87  \n",
      "3  2018-08-15 10:10:18   12.99          12.79  \n",
      "4  2017-02-13 13:57:51  199.90          18.14   \n",
      "\n",
      "==================================================\n",
      "Preview Dataset Products\n",
      "==================================================\n",
      "                         product_id  product_category_name  \\\n",
      "0  1e9e8ef04dbcff4541ed26657ea517e5             perfumaria   \n",
      "1  3aa071139cb16b67ca9e5dea641aaa2f                  artes   \n",
      "2  96bd76ec8810374ed1b65e291975717f          esporte_lazer   \n",
      "3  cef67bcfe19066a932b7673e239eb23d                  bebes   \n",
      "4  9dc1a7de274444849c219cff195d0b71  utilidades_domesticas   \n",
      "\n",
      "   product_name_lenght  product_description_lenght  product_photos_qty  \\\n",
      "0                 40.0                       287.0                 1.0   \n",
      "1                 44.0                       276.0                 1.0   \n",
      "2                 46.0                       250.0                 1.0   \n",
      "3                 27.0                       261.0                 1.0   \n",
      "4                 37.0                       402.0                 4.0   \n",
      "\n",
      "   product_weight_g  product_length_cm  product_height_cm  product_width_cm  \n",
      "0             225.0               16.0               10.0              14.0  \n",
      "1            1000.0               30.0               18.0              20.0  \n",
      "2             154.0               18.0                9.0              15.0  \n",
      "3             371.0               26.0                4.0              26.0  \n",
      "4             625.0               20.0               17.0              13.0  \n"
     ]
    }
   ],
   "source": [
    "# Import dataset yang diperlukan\n",
    "customers = pd.read_csv(\"data/customers_dataset.csv\")\n",
    "orders = pd.read_csv(\"data/orders_dataset.csv\")\n",
    "order_items = pd.read_csv(\"data/order_items_dataset.csv\")\n",
    "order_payments = pd.read_csv(\"data/order_payments_dataset.csv\")\n",
    "products = pd.read_csv(\"data/products_dataset.csv\")\n",
    "\n",
    "# Cek apakah dataset berhasil dimuat\n",
    "print(\"=\" * 50)\n",
    "print(\"Preview Dataset Orders\")\n",
    "print(\"=\" * 50)\n",
    "print(orders.head(), \"\\n\")\n",
    "\n",
    "print(\"=\" * 50)\n",
    "print(\"Preview Dataset Order Items\")\n",
    "print(\"=\" * 50)\n",
    "print(order_items.head(), \"\\n\")\n",
    "\n",
    "print(\"=\" * 50)\n",
    "print(\"Preview Dataset Products\")\n",
    "print(\"=\" * 50)\n",
    "print(products.head())"
   ]
  },
  {
   "cell_type": "markdown",
   "metadata": {
    "id": "MMi6xGaDkbCi"
   },
   "source": [
    "**Insight dari Data yang Dimuat**\n",
    "\n",
    "Dataset terdiri dari customers, orders, order_items, order_payments, dan products, mencerminkan sistem e-commerce yang mencakup pelanggan, transaksi, dan produk. Data sudah siap dianalisis lebih lanjut.\n",
    "\n",
    "**Insight dari Orders**\n",
    "\n",
    "Dataset ini memiliki informasi pesanan lengkap seperti ID pelanggan, status, dan estimasi pengiriman. Bisa dianalisis untuk rata-rata waktu pengiriman, tren pesanan, serta persentase keterlambatan. Perlu pengecekan format datetime sebelum perhitungan.\n",
    "\n",
    "**Insight dari Order Items**\n",
    "\n",
    "Menunjukkan hubungan pesanan dan item di dalamnya. Terdapat harga dan biaya pengiriman, yang bisa dibandingkan untuk melihat pengaruh ongkir terhadap belanja pelanggan. Bisa dianalisis untuk produk terlaris dan seller dengan transaksi terbanyak.\n",
    "\n",
    "**Insight dari Products**\n",
    "\n",
    "Memuat kategori produk, panjang deskripsi, jumlah foto, dan dimensi barang. Bisa digunakan untuk melihat kategori produk terpopuler dan apakah deskripsi atau visual produk berpengaruh terhadap penjualan."
   ]
  },
  {
   "cell_type": "markdown",
   "metadata": {
    "id": "FHSiqaZp8DC1"
   },
   "source": [
    "### Assessing Data"
   ]
  },
  {
   "cell_type": "code",
   "execution_count": 103,
   "metadata": {
    "id": "ax-3tEjc9Cj1"
   },
   "outputs": [
    {
     "name": "stdout",
     "output_type": "stream",
     "text": [
      "============================================================\n",
      "Struktur Dataset Orders\n",
      "============================================================\n",
      "<class 'pandas.core.frame.DataFrame'>\n",
      "RangeIndex: 99441 entries, 0 to 99440\n",
      "Data columns (total 8 columns):\n",
      " #   Column                         Non-Null Count  Dtype \n",
      "---  ------                         --------------  ----- \n",
      " 0   order_id                       99441 non-null  object\n",
      " 1   customer_id                    99441 non-null  object\n",
      " 2   order_status                   99441 non-null  object\n",
      " 3   order_purchase_timestamp       99441 non-null  object\n",
      " 4   order_approved_at              99281 non-null  object\n",
      " 5   order_delivered_carrier_date   97658 non-null  object\n",
      " 6   order_delivered_customer_date  96476 non-null  object\n",
      " 7   order_estimated_delivery_date  99441 non-null  object\n",
      "dtypes: object(8)\n",
      "memory usage: 6.1+ MB\n",
      "None \n",
      "\n",
      "============================================================\n",
      "Struktur Dataset Order Items\n",
      "============================================================\n",
      "<class 'pandas.core.frame.DataFrame'>\n",
      "RangeIndex: 112650 entries, 0 to 112649\n",
      "Data columns (total 7 columns):\n",
      " #   Column               Non-Null Count   Dtype  \n",
      "---  ------               --------------   -----  \n",
      " 0   order_id             112650 non-null  object \n",
      " 1   order_item_id        112650 non-null  int64  \n",
      " 2   product_id           112650 non-null  object \n",
      " 3   seller_id            112650 non-null  object \n",
      " 4   shipping_limit_date  112650 non-null  object \n",
      " 5   price                112650 non-null  float64\n",
      " 6   freight_value        112650 non-null  float64\n",
      "dtypes: float64(2), int64(1), object(4)\n",
      "memory usage: 6.0+ MB\n",
      "None \n",
      "\n",
      "============================================================\n",
      " Struktur Dataset Products\n",
      "============================================================\n",
      "<class 'pandas.core.frame.DataFrame'>\n",
      "RangeIndex: 32951 entries, 0 to 32950\n",
      "Data columns (total 9 columns):\n",
      " #   Column                      Non-Null Count  Dtype  \n",
      "---  ------                      --------------  -----  \n",
      " 0   product_id                  32951 non-null  object \n",
      " 1   product_category_name       32341 non-null  object \n",
      " 2   product_name_lenght         32341 non-null  float64\n",
      " 3   product_description_lenght  32341 non-null  float64\n",
      " 4   product_photos_qty          32341 non-null  float64\n",
      " 5   product_weight_g            32949 non-null  float64\n",
      " 6   product_length_cm           32949 non-null  float64\n",
      " 7   product_height_cm           32949 non-null  float64\n",
      " 8   product_width_cm            32949 non-null  float64\n",
      "dtypes: float64(7), object(2)\n",
      "memory usage: 2.3+ MB\n",
      "None \n",
      "\n",
      "============================================================\n",
      " Cek Missing Values\n",
      "============================================================\n",
      "Orders:\n",
      " order_id                            0\n",
      "customer_id                         0\n",
      "order_status                        0\n",
      "order_purchase_timestamp            0\n",
      "order_approved_at                 160\n",
      "order_delivered_carrier_date     1783\n",
      "order_delivered_customer_date    2965\n",
      "order_estimated_delivery_date       0\n",
      "dtype: int64 \n",
      "\n",
      "Order Items:\n",
      " order_id               0\n",
      "order_item_id          0\n",
      "product_id             0\n",
      "seller_id              0\n",
      "shipping_limit_date    0\n",
      "price                  0\n",
      "freight_value          0\n",
      "dtype: int64 \n",
      "\n",
      "Products:\n",
      " product_id                      0\n",
      "product_category_name         610\n",
      "product_name_lenght           610\n",
      "product_description_lenght    610\n",
      "product_photos_qty            610\n",
      "product_weight_g                2\n",
      "product_length_cm               2\n",
      "product_height_cm               2\n",
      "product_width_cm                2\n",
      "dtype: int64 \n",
      "\n",
      "============================================================\n",
      "Cek Data Duplikasi\n",
      "============================================================\n",
      "Jumlah duplikasi di Orders      : 0\n",
      "Jumlah duplikasi di Order Items : 0\n",
      "Jumlah duplikasi di Products    : 0\n",
      "============================================================\n"
     ]
    }
   ],
   "source": [
    "# Cek info struktur dataset\n",
    "print(\"=\" * 60)\n",
    "print(\"Struktur Dataset Orders\")\n",
    "print(\"=\" * 60)\n",
    "print(orders.info(), \"\\n\")\n",
    "\n",
    "print(\"=\" * 60)\n",
    "print(\"Struktur Dataset Order Items\")\n",
    "print(\"=\" * 60)\n",
    "print(order_items.info(), \"\\n\")\n",
    "\n",
    "print(\"=\" * 60)\n",
    "print(\" Struktur Dataset Products\")\n",
    "print(\"=\" * 60)\n",
    "print(products.info(), \"\\n\")\n",
    "\n",
    "# Cek missing values\n",
    "print(\"=\" * 60)\n",
    "print(\" Cek Missing Values\")\n",
    "print(\"=\" * 60)\n",
    "print(\"Orders:\\n\", orders.isnull().sum(), \"\\n\")\n",
    "print(\"Order Items:\\n\", order_items.isnull().sum(), \"\\n\")\n",
    "print(\"Products:\\n\", products.isnull().sum(), \"\\n\")\n",
    "\n",
    "# Cek duplikasi\n",
    "print(\"=\" * 60)\n",
    "print(\"Cek Data Duplikasi\")\n",
    "print(\"=\" * 60)\n",
    "print(f\"Jumlah duplikasi di Orders      : {orders.duplicated().sum()}\")\n",
    "print(f\"Jumlah duplikasi di Order Items : {order_items.duplicated().sum()}\")\n",
    "print(f\"Jumlah duplikasi di Products    : {products.duplicated().sum()}\")\n",
    "print(\"=\" * 60)\n"
   ]
  },
  {
   "cell_type": "markdown",
   "metadata": {
    "id": "7dtxhAPrkhPL"
   },
   "source": [
    "# Insight dari Struktur dan Kualitas Data\n",
    "\n",
    "## Struktur Dataset Orders\n",
    "- Dataset terdiri dari 99.441 entri dengan 8 kolom terkait pesanan.\n",
    "- Ada missing values di beberapa kolom seperti order_approved_at (160), order_delivered_carrier_date (1.783), dan order_delivered_customer_date (2.965).\n",
    "- Peluang analisis: Evaluasi keterlambatan pengiriman dan dampaknya pada kepuasan pelanggan.\n",
    "  \n",
    "## Struktur Dataset Order Items\n",
    "- Berisi 112.650 entri, menunjukkan bahwa setiap pesanan bisa memiliki lebih dari satu item.\n",
    "- Tidak ada missing values atau duplikasi, sehingga dataset ini siap dianalisis.\n",
    "- Peluang analisis: Identifikasi produk dengan penjualan tertinggi dan sebaran harga.\n",
    "  \n",
    "## Struktur Dataset Products\n",
    "- Berisi 32.951 entri, tetapi beberapa atribut seperti product_category_name memiliki 610 data kosong.\n",
    "- Ada 2 data kosong pada dimensi dan berat produk, yang perlu diperbaiki sebelum analisis lebih lanjut.\n",
    "- Peluang analisis: Kategori produk terpopuler dan apakah deskripsi atau gambar produk berpengaruh pada penjualan.\n",
    "\n",
    "## Kualitas Data (Missing Values & Duplikasi)\n",
    "- Orders: Beberapa tanggal persetujuan dan pengiriman pesanan hilang, bisa menyebabkan bias dalam analisis waktu pengiriman.\n",
    "- Products: Beberapa data kategori dan dimensi produk hilang, perlu diperlakukan agar tidak mempengaruhi analisis penjualan berdasarkan kategori atau ukuran produk.\n",
    "- Duplikasi: Tidak ditemukan duplikasi di semua dataset, sehingga data cukup bersih untuk analisis lebih lanjut.\n",
    "\n",
    "**Kesimpulan:**\n",
    "Dataset ini cukup bersih, tetapi perlu penanganan missing values terutama di kolom terkait pengiriman dan kategori produk sebelum analisis lebih lanjut."
   ]
  },
  {
   "cell_type": "markdown",
   "metadata": {
    "id": "EhN5R4hr8DC1"
   },
   "source": [
    "### Cleaning Data"
   ]
  },
  {
   "cell_type": "code",
   "execution_count": 108,
   "metadata": {
    "id": "jVnYpprE9Evz"
   },
   "outputs": [
    {
     "name": "stdout",
     "output_type": "stream",
     "text": [
      "\n",
      "============================================================\n",
      "============== Missing Values Setelah Cleaning ==============\n",
      "\n",
      "Orders:\n",
      " order_id                         0\n",
      "customer_id                      0\n",
      "order_status                     0\n",
      "order_purchase_timestamp         0\n",
      "order_approved_at                0\n",
      "order_delivered_carrier_date     0\n",
      "order_delivered_customer_date    0\n",
      "order_estimated_delivery_date    0\n",
      "\n",
      "Order Items:\n",
      " order_id               0\n",
      "order_item_id          0\n",
      "product_id             0\n",
      "seller_id              0\n",
      "shipping_limit_date    0\n",
      "price                  0\n",
      "freight_value          0\n",
      "\n",
      "Products:\n",
      " product_id                    0\n",
      "product_category_name         0\n",
      "product_name_lenght           0\n",
      "product_description_lenght    0\n",
      "product_photos_qty            0\n",
      "product_weight_g              0\n",
      "product_length_cm             0\n",
      "product_height_cm             0\n",
      "product_width_cm              0\n",
      "============================================================\n",
      "\n",
      "============================================================\n",
      "============== Jumlah Duplikasi Setelah Cleaning ==============\n",
      "Orders      : 0\n",
      "Order Items : 0\n",
      "Products    : 0\n",
      "============================================================\n"
     ]
    }
   ],
   "source": [
    "# Menghapus duplikasi pada setiap dataset\n",
    "orders.drop_duplicates(inplace=True)\n",
    "order_items.drop_duplicates(inplace=True)\n",
    "products.drop_duplicates(inplace=True)\n",
    "\n",
    "# Mengisi missing values pada kategori produk dengan 'Unknown'\n",
    "products['product_category_name'] = products['product_category_name'].fillna('Unknown')\n",
    "\n",
    "# Menghapus baris yang memiliki order_purchase_timestamp kosong (tidak bisa diperbaiki)\n",
    "orders.dropna(subset=['order_purchase_timestamp'], inplace=True)\n",
    "\n",
    "# Mengisi order_approved_at dengan order_purchase_timestamp jika kosong\n",
    "orders['order_approved_at'] = orders['order_approved_at'].fillna(orders['order_purchase_timestamp'])\n",
    "\n",
    "# Mengisi order_delivered_carrier_date dengan \"Unknown\" karena tidak ada data valid untuk dipakai\n",
    "orders['order_delivered_carrier_date'] = orders['order_delivered_carrier_date'].fillna(\"Unknown\")\n",
    "\n",
    "# Mengisi order_delivered_customer_date dengan order_estimated_delivery_date jika kosong\n",
    "orders['order_delivered_customer_date'] = orders['order_delivered_customer_date'].fillna(orders['order_estimated_delivery_date'])\n",
    "\n",
    "# Mengisi missing values pada atribut produk dengan nilai median untuk menghindari distorsi data\n",
    "products.loc[:, 'product_name_lenght'] = products['product_name_lenght'].fillna(products['product_name_lenght'].median())\n",
    "products.loc[:, 'product_description_lenght'] = products['product_description_lenght'].fillna(products['product_description_lenght'].median())\n",
    "products.loc[:, 'product_photos_qty'] = products['product_photos_qty'].fillna(products['product_photos_qty'].median())\n",
    "\n",
    "products.loc[:, 'product_weight_g'] = products['product_weight_g'].fillna(products['product_weight_g'].median())\n",
    "products.loc[:, 'product_length_cm'] = products['product_length_cm'].fillna(products['product_length_cm'].median())\n",
    "products.loc[:, 'product_height_cm'] = products['product_height_cm'].fillna(products['product_height_cm'].median())\n",
    "products.loc[:, 'product_width_cm'] = products['product_width_cm'].fillna(products['product_width_cm'].median())\n",
    "\n",
    "# Menampilkan jumlah missing values setelah cleaning\n",
    "print(\"\\n\" + \"=\" * 60)\n",
    "print(\"============== Missing Values Setelah Cleaning ==============\")\n",
    "print(\"\\nOrders:\\n\", orders.isnull().sum().to_string())       # Cek missing values pada orders\n",
    "print(\"\\nOrder Items:\\n\", order_items.isnull().sum().to_string())  # Cek missing values pada order_items\n",
    "print(\"\\nProducts:\\n\", products.isnull().sum().to_string())   # Cek missing values pada products\n",
    "print(\"=\" * 60)\n",
    "\n",
    "# Menampilkan jumlah duplikasi setelah cleaning\n",
    "print(\"\\n\" + \"=\" * 60)\n",
    "print(\"============== Jumlah Duplikasi Setelah Cleaning ==============\")\n",
    "print(f\"Orders      : {orders.duplicated().sum():,}\")      # Cek jumlah duplikasi di orders\n",
    "print(f\"Order Items : {order_items.duplicated().sum():,}\") # Cek jumlah duplikasi di order_items\n",
    "print(f\"Products    : {products.duplicated().sum():,}\")    # Cek jumlah duplikasi di products\n",
    "print(\"=\" * 60)"
   ]
  },
  {
   "cell_type": "markdown",
   "metadata": {
    "id": "th_Lzl2Fkj9O"
   },
   "source": [
    "### **Insight dari Data Cleaning**  \n",
    "\n",
    "**Duplikasi Dihapus**  \n",
    "- Tidak ada lagi **data duplikat** di semua dataset (*Orders, Order Items, Products*).  \n",
    "\n",
    "**Missing Values Ditangani**  \n",
    "- **Kategori produk kosong** diisi dengan `\"Unknown\"`.  \n",
    "- **Tanggal persetujuan pesanan kosong** diisi dengan *order_purchase_timestamp* untuk konsistensi.  \n",
    "- **Tanggal pengiriman carrier kosong** diisi dengan `\"Unknown\"` karena tidak ada referensi valid.  \n",
    "- **Tanggal pengiriman ke pelanggan kosong** diisi dengan *order_estimated_delivery_date* untuk perkiraan.  \n",
    "- **Atribut produk kosong** (panjang nama, deskripsi, jumlah foto, berat, dimensi) diisi dengan **nilai median** untuk menghindari distorsi data.  \n",
    "\n",
    " **Hasil Akhir:**  \n",
    "- **Dataset bersih** dan **siap untuk analisis lebih lanjut** tanpa missing values atau duplikasi.  \n",
    "- Bisa mulai eksplorasi **tren pesanan, performa penjual, dan faktor yang mempengaruhi penjualan.** 🚀"
   ]
  },
  {
   "cell_type": "markdown",
   "metadata": {
    "id": "gp-Y6wU38DC1"
   },
   "source": [
    "## Exploratory Data Analysis (EDA)"
   ]
  },
  {
   "cell_type": "markdown",
   "metadata": {
    "id": "MW7WF2kr8DC1"
   },
   "source": [
    "### Explore ..."
   ]
  },
  {
   "cell_type": "code",
   "execution_count": 135,
   "metadata": {
    "id": "e9CQCZjk8DC2",
    "scrolled": true
   },
   "outputs": [
    {
     "name": "stdout",
     "output_type": "stream",
     "text": [
      "============================================================\n",
      "Top 10 Kategori Produk dengan Order Terbanyak dalam 6 Bulan Terakhir\n",
      "============================================================\n",
      "      product_category  total_orders\n",
      "          beleza_saude          3608\n",
      "       cama_mesa_banho          3122\n",
      " utilidades_domesticas          2641\n",
      "    relogios_presentes          2356\n",
      "      moveis_decoracao          2154\n",
      "         esporte_lazer          2096\n",
      "informatica_acessorios          1927\n",
      "            automotivo          1476\n",
      "             telefonia          1104\n",
      "                 bebes          1012\n",
      "============================================================ \n",
      "\n",
      "============================================================\n",
      "Kategori Produk yang Dibeli oleh One-Time Buyers\n",
      "============================================================\n",
      "      product_category  total_orders\n",
      "       cama_mesa_banho         11115\n",
      "          beleza_saude          9670\n",
      "         esporte_lazer          8641\n",
      "      moveis_decoracao          8334\n",
      "informatica_acessorios          7827\n",
      " utilidades_domesticas          6964\n",
      "    relogios_presentes          5991\n",
      "             telefonia          4545\n",
      "    ferramentas_jardim          4347\n",
      "            automotivo          4235\n",
      "============================================================\n"
     ]
    }
   ],
   "source": [
    "\n",
    "# Pastikan format timestamp sesuai\n",
    "orders['order_purchase_timestamp'] = pd.to_datetime(orders['order_purchase_timestamp'])\n",
    "\n",
    "# Ambil tanggal terbaru dalam dataset\n",
    "latest_date = orders['order_purchase_timestamp'].max()\n",
    "\n",
    "# Hitung batas 6 bulan terakhir\n",
    "six_months_ago = latest_date - pd.DateOffset(months=6)\n",
    "\n",
    "# Filter data dalam rentang 6 bulan terakhir\n",
    "orders_last_6_months = orders[orders['order_purchase_timestamp'] >= six_months_ago]\n",
    "\n",
    "# Gabungkan orders dengan order_items\n",
    "merged_data = orders_last_6_months.merge(order_items, on='order_id', how='left')\n",
    "\n",
    "# Gabungkan lagi dengan tabel produk untuk mendapatkan kategori\n",
    "merged_data = merged_data.merge(products[['product_id', 'product_category_name']], on='product_id', how='left')\n",
    "\n",
    "# Pastikan tidak ada kategori yang kosong\n",
    "merged_data['product_category_name'] = merged_data['product_category_name'].fillna('Unknown')\n",
    "\n",
    "# Hitung jumlah order per kategori\n",
    "category_counts = merged_data['product_category_name'].value_counts().reset_index()\n",
    "category_counts.columns = ['product_category', 'total_orders']\n",
    "\n",
    "# Print hasil dalam format yang lebih rapi\n",
    "print(\"=\" * 60)\n",
    "print(\"Top 10 Kategori Produk dengan Order Terbanyak dalam 6 Bulan Terakhir\")\n",
    "print(\"=\" * 60)\n",
    "print(category_counts.head(10).to_string(index=False))\n",
    "print(\"=\" * 60, \"\\n\")\n",
    "\n",
    "# Pertanyaan 2\n",
    "\n",
    "# Hitung jumlah transaksi per pelanggan\n",
    "customer_orders = orders.groupby('customer_id')['order_id'].count().reset_index()\n",
    "customer_orders.columns = ['customer_id', 'order_count']\n",
    "\n",
    "# Identifikasi one-time buyers (pelanggan dengan hanya 1 transaksi)\n",
    "one_time_buyers = customer_orders[customer_orders['order_count'] == 1]\n",
    "\n",
    "# Gabungkan dengan orders untuk mendapatkan order_id mereka\n",
    "one_time_orders = orders[orders['customer_id'].isin(one_time_buyers['customer_id'])]\n",
    "\n",
    "# Gabungkan dengan order_items untuk mendapatkan product_id\n",
    "one_time_order_items = one_time_orders.merge(order_items, on='order_id', how='inner')\n",
    "\n",
    "# Gabungkan dengan products untuk mendapatkan kategori produk\n",
    "one_time_order_items = one_time_order_items.merge(products[['product_id', 'product_category_name']], on='product_id', how='left')\n",
    "\n",
    "# Pastikan tidak ada kategori kosong\n",
    "one_time_order_items['product_category_name'] = one_time_order_items['product_category_name'].fillna('Unknown')\n",
    "\n",
    "# Hitung jumlah pembelian per kategori produk untuk one-time buyers\n",
    "one_time_category_counts = one_time_order_items['product_category_name'].value_counts().reset_index()\n",
    "one_time_category_counts.columns = ['product_category', 'total_orders']\n",
    "\n",
    "# Print hasil\n",
    "print(\"=\" * 60)\n",
    "print(\"Kategori Produk yang Dibeli oleh One-Time Buyers\")\n",
    "print(\"=\" * 60)\n",
    "print(one_time_category_counts.head(10).to_string(index=False))\n",
    "print(\"=\" * 60)"
   ]
  },
  {
   "cell_type": "markdown",
   "metadata": {
    "id": "th_Lzl2Fkj9O"
   },
   "source": [
    "### **Insight**  \n",
    "\n",
    " **1. Tren Kategori Produk dalam 6 Bulan Terakhir**  \n",
    "- **Kategori produk dengan order terbanyak** dalam 6 bulan terakhir adalah:  \n",
    "   **Beleza Saude** (kecantikan & kesehatan) - **3,608 order**  \n",
    "   **Cama Mesa Banho** (perlengkapan rumah tangga) - **3,122 order**  \n",
    "   **Utilidades Domesticas** (peralatan rumah tangga) - **2,641 order**  \n",
    "- **Kategori yang laris cenderung kebutuhan sehari-hari**, menunjukkan potensi pertumbuhan di sektor ini.  \n",
    "\n",
    " **2. Kategori Favorit One-Time Buyers**  \n",
    "- **One-time buyers** cenderung membeli produk kategori:  \n",
    "   **Cama Mesa Banho** (perlengkapan rumah tangga) - **11,115 order**  \n",
    "  **Beleza Saude** (kecantikan & kesehatan) - **9,670 order**  \n",
    "   **Esporte Lazer** (olahraga & rekreasi) - **8,641 order**  \n",
    "- **Mayoritas one-time buyers membeli barang kebutuhan rumah dan gaya hidup**, bisa jadi karena pembelian musiman atau kurangnya retensi pelanggan.  \n",
    "\n",
    " **Teknik Analisis:**  \n",
    "- **Analisis Tren Time-Series** digunakan untuk melihat tren transaksi dalam 6 bulan terakhir.  \n",
    "- **Customer Segmentation** digunakan untuk mengidentifikasi pola pembelian one-time buyers.  \n",
    "\n",
    " **Kesempatan Bisnis:**  \n",
    "- **Strategi Retensi:** Beri diskon atau program loyalitas untuk pelanggan kategori \"One-Time Buyers\".  \n",
    "- **Optimasi Produk:** Fokus pada kategori yang sedang tren untuk meningkatkan profitabilitas.  \n",
    "- **Prediksi Tren Masa Depan:** Gunakan analisis time-series lebih lanjut untuk meramalkan permintaan produk."
   ]
  },
  {
   "cell_type": "markdown",
   "metadata": {
    "id": "zsyZjqak8DC2"
   },
   "source": [
    "## Visualization & Explanatory Analysis"
   ]
  },
  {
   "cell_type": "markdown",
   "metadata": {
    "id": "HZxOiQ6n8DC2"
   },
   "source": [
    "### Pertanyaan 1:"
   ]
  },
  {
   "cell_type": "code",
   "execution_count": 132,
   "metadata": {
    "id": "1swJUdAD8DC2"
   },
   "outputs": [
    {
     "data": {
      "image/png": "[encoded data removed]",
      "text/plain": [
       "<Figure size 1200x600 with 1 Axes>"
      ]
     },
     "metadata": {},
     "output_type": "display_data"
    }
   ],
   "source": [
    "import matplotlib.pyplot as plt\n",
    "import seaborn as sns\n",
    "\n",
    "# Set style visualisasi\n",
    "plt.style.use('seaborn-v0_8-darkgrid')\n",
    "\n",
    "# Buat figure\n",
    "plt.figure(figsize=(12, 6))\n",
    "\n",
    "# Plot bar chart dengan hue agar warna lebih bermakna\n",
    "sns.barplot(\n",
    "    data=category_counts.head(10),\n",
    "    x=\"total_orders\",\n",
    "    y=\"product_category\",\n",
    "    hue=\"product_category\",  \n",
    "    palette=\"coolwarm\",\n",
    "    legend=False  \n",
    ")\n",
    "\n",
    "# Tambahkan title dan label untuk konteks\n",
    "plt.title(\"Top 10 Kategori Produk dengan Jumlah Order Terbanyak (6 Bulan Terakhir)\", fontsize=14, fontweight=\"bold\")\n",
    "plt.xlabel(\"Total Order\", fontsize=12)\n",
    "plt.ylabel(\"Kategori Produk\", fontsize=12)\n",
    "\n",
    "# Hilangkan elemen yang tidak perlu (desain minimalis)\n",
    "plt.xticks(fontsize=10)\n",
    "plt.yticks(fontsize=10)\n",
    "sns.despine(left=True, bottom=True)  # Hilangkan garis sumbu agar lebih clean\n",
    "\n",
    "# Tampilkan visualisasi\n",
    "plt.show()\n"
   ]
  },
  {
   "cell_type": "markdown",
   "metadata": {
    "id": "DgHI7CiU8DC2"
   },
   "source": [
    "### Pertanyaan 2:"
   ]
  },
  {
   "cell_type": "code",
   "execution_count": 126,
   "metadata": {
    "id": "Go0lCsvO8DC2"
   },
   "outputs": [
    {
     "data": {
      "image/png": "[encoded data removed]",
      "text/plain": [
       "<Figure size 1200x600 with 1 Axes>"
      ]
     },
     "metadata": {},
     "output_type": "display_data"
    }
   ],
   "source": [
    "# Plot chart\n",
    "plt.figure(figsize=(12, 6))\n",
    "plt.barh(one_time_category_counts['product_category'][:10], one_time_category_counts['total_orders'][:10], color='skyblue')\n",
    "plt.xlabel(\"Total Orders\")\n",
    "plt.ylabel(\"Product Category\")\n",
    "plt.title(\"Top 10 Product Categories Bought by One-Time Buyers\")\n",
    "plt.gca().invert_yaxis()  # Membalik sumbu y agar kategori dengan jumlah terbanyak di atas\n",
    "plt.show()\n"
   ]
  },
  {
   "cell_type": "markdown",
   "metadata": {
    "id": "_0-36BDLklRg"
   },
   "source": [
    "## Pertanyaan 1: Top 10 Kategori Produk dengan Order Terbanyak dalam 6 Bulan Terakhir\n",
    "\n",
    "1. Kategori \"beleza_saude\" (kecantikan & kesehatan) mendominasi penjualan dengan 3.608 order dalam 6 bulan terakhir. Ini menunjukkan bahwa produk perawatan diri, kosmetik, dan kesehatan memiliki permintaan tinggi.\n",
    "   \n",
    "   Rekomendasi: Bisa fokus ke promosi skincare, vitamin, atau produk kesehatan lainnya.\n",
    "\n",
    "2. Kategori \"cama_mesa_banho\" (perlengkapan rumah tangga) menempati urutan kedua dengan 3.122 order, yang berarti ada tren belanja untuk kebutuhan rumah tangga.\n",
    "   \n",
    "   Rekomendasi: Jika menjual barang seperti sprei, selimut, atau peralatan mandi, ini bisa menjadi fokus pemasaran.\n",
    "\n",
    "3. Kategori \"informatica_acessorios\" dan \"automotivo\" masuk dalam daftar dengan masing-masing 1.927 dan 1.476 order, menunjukkan bahwa aksesoris komputer dan otomotif masih cukup diminati.\n",
    "   \n",
    "   Rekomendasi: Bisa menjual produk seperti keyboard, mouse, charger, atau aksesori kendaraan.\n",
    "\n",
    "4. Kategori \"telefonia\" (ponsel & aksesoris) masuk dengan 1.104 order, yang cukup signifikan meskipun bukan kategori teratas.\n",
    "   \n",
    "   Rekomendasi: Promosi aksesori HP seperti case, screen protector, dan kabel charger mungkin bisa meningkatkan angka penjualan.\n",
    "\n",
    "5. Produk kategori bayi (\"bebes\") juga cukup tinggi dengan 1.012 order, menunjukkan bahwa kebutuhan bayi (pakaian, susu, perlengkapan mandi) masih stabil.\n",
    "   \n",
    "   Rekomendasi: Bisa memperkuat pemasaran produk-produk bayi dan anak.\n",
    "\n",
    "---\n",
    "\n",
    "## Pertanyaan 2: Kategori Produk yang Dibeli oleh One-Time Buyers\n",
    "\n",
    "Fakta menarik:\n",
    "\n",
    "- Kategori \"cama_mesa_banho\" (peralatan rumah tangga) menjadi favorit one-time buyers dengan 11.115 transaksi. Ini bisa berarti pelanggan membeli satu kali untuk kebutuhan rumah dan tidak kembali lagi.\n",
    "  \n",
    "  Rekomendasi: Bisa memberikan diskon untuk pembelian kedua atau mengirimkan email follow-up agar mereka tertarik membeli lagi.\n",
    "\n",
    "- Kategori \"beleza_saude\" juga tinggi (9.670 transaksi), tetapi kategori ini punya potensi lebih tinggi untuk repeat buyers.\n",
    "  \n",
    "  Rekomendasi: Bisa membuat program loyalitas atau membership khusus untuk pelanggan kecantikan.\n",
    "\n",
    "- Kategori \"informatica_acessorios\" dan \"telefonia\" juga banyak dibeli oleh one-time buyers.\n",
    "  \n",
    "  Rekomendasi: Jika pelanggan beli aksesoris HP atau komputer sekali saja, mungkin mereka belum melihat alasan untuk beli lagi. Bisa dicoba upselling atau promo bundling.\n",
    "\n",
    "- Kategori \"moveis_decoracao\" (perabotan & dekorasi) cukup tinggi (8.334 transaksi).\n",
    "  \n",
    "  Rekomendasi: Bisa menawarkan diskon jika mereka ingin melengkapi dekorasi rumah dengan barang lain.\n",
    "\n",
    "---\n",
    "\n",
    "## Kesimpulan & Strategi Bisnis\n",
    "\n",
    "- Kategori \"beleza_saude\" dan \"cama_mesa_banho\" punya demand tinggi. Bisa dimaksimalkan dengan promo atau penawaran eksklusif.\n",
    "- One-time buyers cenderung membeli peralatan rumah tangga & dekorasi. Strategi retensi pelanggan harus diperkuat di kategori ini, seperti program diskon untuk pembelian berikutnya.\n",
    "- Kategori teknologi seperti \"informatica_acessorios\" dan \"telefonia\" cukup diminati. Bisa ditingkatkan dengan upselling atau paket bundling.\n",
    "- Strategi pemasaran yang lebih targeted bisa meningkatkan repeat buyers. Misalnya, kampanye email yang menawarkan produk pelengkap atau diskon untuk pembelian berikutnya.\n",
    "\n",
    "---\n",
    "\n",
    "Kalau mau analisis lebih lanjut (misalnya dari segi profit, tren harga, atau pola repeat buyers), tinggal bilang saja!"
   ]
  },
  {
   "cell_type": "markdown",
   "metadata": {
    "id": "9y4VUsmcYNZ5"
   },
   "source": [
    "## Analisis Lanjutan (Opsional)"
   ]
  },
  {
   "cell_type": "code",
   "execution_count": null,
   "metadata": {
    "id": "iWhnzsJGYUCO"
   },
   "outputs": [],
   "source": []
  },
  {
   "cell_type": "markdown",
   "metadata": {
    "id": "_WeHlCeX8DC2"
   },
   "source": [
    "## Conclusion"
   ]
  },
  {
   "cell_type": "markdown",
   "metadata": {
    "id": "ZTcyR48Y8DC2"
   },
   "source": [
    "## Pertanyaan 1\n",
    "### **Tren Pembelian Pelanggan dalam 6 Bulan Terakhir**  \n",
    "- Permintaan produk kesehatan & kecantikan (beleza_saude) tetap tinggi, menunjukkan tren konsumen yang semakin peduli dengan perawatan diri.  \n",
    "- Kategori rumah tangga (cama_mesa_banho) dan perlengkapan domestik mendominasi, yang bisa mencerminkan peningkatan belanja untuk kenyamanan rumah.  \n",
    "- Aksesoris komputer & otomotif tetap diminati, tapi tidak dominan, menunjukkan bahwa teknologi dan otomotif masih relevan tetapi bukan prioritas utama pelanggan.  \n",
    "- Produk bayi masuk dalam kategori dengan permintaan tinggi, menandakan adanya segmentasi pasar yang stabil untuk kebutuhan keluarga muda.  \n",
    "\n",
    "Kesimpulan: Tren pembelian menunjukkan bahwa pelanggan cenderung membeli produk yang berhubungan dengan kenyamanan pribadi dan rumah tangga. Kategori teknologi & otomotif masih memiliki daya tarik, tetapi tidak sebesar kategori utama seperti kecantikan dan rumah tangga.  \n",
    "\n",
    "---\n",
    "## Pertanyaan 2\n",
    "### **Pola Pembelian One-Time Buyers**  \n",
    "- One-time buyers cenderung membeli perlengkapan rumah tangga sekali saja, seperti sprei, selimut, dan dekorasi rumah. Ini menunjukkan bahwa pembelian bersifat kebutuhan, bukan kebiasaan berulang.  \n",
    "- Kategori kecantikan & kesehatan juga tinggi di one-time buyers, tetapi ini memiliki potensi untuk repeat buyers jika strategi pemasaran lebih agresif (misalnya, promosi loyalitas atau diskon untuk pembelian kedua).  \n",
    "- Aksesoris teknologi & ponsel dibeli oleh banyak one-time buyers, kemungkinan karena mereka hanya membeli saat butuh dan bukan bagian dari pola belanja rutin.  \n",
    "\n",
    "Kesimpulan: One-time buyers lebih banyak membeli produk kebutuhan satu kali pakai, seperti dekorasi rumah dan perlengkapan tempat tidur. Namun, ada peluang untuk meningkatkan retensi pelanggan di kategori kecantikan & kesehatan dengan strategi pemasaran yang lebih terarah.  \n",
    "\n",
    "---\n",
    "\n",
    "## **Kesimpulan Akhir & Rekomendasi Bisnis**  \n",
    "- Fokus ke kategori kecantikan & rumah tangga untuk meningkatkan penjualan.  \n",
    "- Gunakan strategi retensi pelanggan untuk mengubah one-time buyers menjadi repeat buyers, terutama di kategori kecantikan.  \n",
    "- Upselling dan bundling bisa meningkatkan pembelian ulang di kategori teknologi & otomotif.  \n",
    "- Strategi diskon pembelian kedua atau membership loyalitas bisa memperbaiki tingkat retensi pelanggan.  \n",
    "\n",
    "Secara keseluruhan, analisis menunjukkan bahwa produk rumah tangga dan kecantikan memiliki potensi pertumbuhan tinggi, sementara one-time buyers bisa menjadi target utama untuk program retensi pelanggan. Jika ingin eksplorasi lebih lanjut, bisa mencoba analisis repeat purchase rate atau segmentasi pelanggan."
   ]
  }
 ],
 "metadata": {
  "colab": {
   "provenance": []
  },
  "kernelspec": {
   "display_name": "Python 3 (ipykernel)",
   "language": "python",
   "name": "python3"
  },
  "language_info": {
   "codemirror_mode": {
    "name": "ipython",
    "version": 3
   },
   "file_extension": ".py",
   "mimetype": "text/x-python",
   "name": "python",
   "nbconvert_exporter": "python",
   "pygments_lexer": "ipython3",
   "version": "3.12.5"
  },
  "vscode": {
   "interpreter": {
    "hash": "972b3bf27e332e87b5379f2791f6ef9dfc79c71018c370b0d7423235e20fe4d7"
   }
  }
 },
 "nbformat": 4,
 "nbformat_minor": 4
}

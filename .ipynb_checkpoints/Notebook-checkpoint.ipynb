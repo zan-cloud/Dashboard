{
 "cells": [
  {
   "cell_type": "markdown",
   "metadata": {
    "id": "H9wADwK78DCz"
   },
   "source": [
    "# Proyek Analisis Data: E-Commerce Public Dataset\n",
    "- **Nama:** Zhafran An-Nawawi\n",
    "- **Email:** zhafran.annawawi@gmail.com\n",
    "- **ID Dicoding:** MS113D5Y0542"
   ]
  },
  {
   "cell_type": "markdown",
   "metadata": {
    "id": "eE0raob58DC0"
   },
   "source": [
    "## Menentukan Pertanyaan Bisnis"
   ]
  },
  {
   "cell_type": "markdown",
   "metadata": {
    "id": "GmQeQ5YF8DC0"
   },
   "source": [
    "- Bagaimana performa setiap kategori produk berdasarkan jumlah transaksi dan total penjualan dalam 3 bulan terakhir, serta kategori mana yang memiliki penjualan tertinggi dan terendah?\n",
    "- Bagaimana distribusi pelanggan di setiap wilayah dalam 6 bulan terakhir, serta wilayah mana yang memiliki jumlah pelanggan terbanyak dan paling sedikit?"
   ]
  },
  {
   "cell_type": "markdown",
   "metadata": {
    "id": "H-z4QGlO8DC1"
   },
   "source": [
    "## Import Semua Packages/Library yang Digunakan"
   ]
  },
  {
   "cell_type": "code",
   "execution_count": 22,
   "metadata": {
    "id": "FVYwaObI8DC1"
   },
   "outputs": [],
   "source": [
    "import pandas as pd\n",
    "import numpy as np\n",
    "import matplotlib.pyplot as plt\n",
    "import seaborn as sns\n",
    "import streamlit as st\n",
    "import datetime as dt\n",
    "import geopandas as gs\n",
    "from sklearn.cluster import KMeans"
   ]
  },
  {
   "cell_type": "markdown",
   "metadata": {
    "id": "h_Sh51Xy8DC1"
   },
   "source": [
    "## Data Wrangling"
   ]
  },
  {
   "cell_type": "markdown",
   "metadata": {
    "id": "sXU2GBYu8DC1"
   },
   "source": [
    "### Gathering Data"
   ]
  },
  {
   "cell_type": "code",
   "execution_count": 7,
   "metadata": {
    "id": "zjCBk1BI8DC1"
   },
   "outputs": [
    {
     "name": "stdout",
     "output_type": "stream",
     "text": [
      "RFM Data Shape: (117601, 22)\n",
      "Geospatial Data Shape: (15083733, 17)\n",
      "Product Data Shape: (112650, 16)\n"
     ]
    }
   ],
   "source": [
    "# Load dataset yang dibutuhkan\n",
    "customers_df = pd.read_csv(\"data/customers_dataset.csv\")\n",
    "geolocation_df = pd.read_csv(\"data/geolocation_dataset.csv\")\n",
    "order_items_df = pd.read_csv(\"data/order_items_dataset.csv\")\n",
    "order_payments_df = pd.read_csv(\"data/order_payments_dataset.csv\")\n",
    "orders_df = pd.read_csv(\"data/orders_dataset.csv\")\n",
    "product_translation_df = pd.read_csv(\"data/product_category_name_translation.csv\")\n",
    "products_df = pd.read_csv(\"data/products_dataset.csv\")\n",
    "\n",
    "# Merge untuk RFM Analysis\n",
    "rfm_df = pd.merge(orders_df, order_items_df, on=\"order_id\", how=\"inner\")\n",
    "rfm_df = pd.merge(rfm_df, order_payments_df, on=\"order_id\", how=\"inner\")\n",
    "rfm_df = pd.merge(rfm_df, customers_df, on=\"customer_id\", how=\"inner\")\n",
    "\n",
    "# Merge untuk Geospatial Analysis\n",
    "geo_df = pd.merge(orders_df, customers_df, on=\"customer_id\", how=\"inner\")\n",
    "geo_df = pd.merge(geo_df, geolocation_df, left_on=\"customer_zip_code_prefix\", right_on=\"geolocation_zip_code_prefix\", how=\"left\")\n",
    "\n",
    "# Merge untuk Produk Analysis\n",
    "product_df = pd.merge(order_items_df, products_df, on=\"product_id\", how=\"inner\")\n",
    "product_df = pd.merge(product_df, product_translation_df, on=\"product_category_name\", how=\"left\")\n",
    "\n",
    "# Cek hasil akhir\n",
    "print(f\"RFM Data Shape: {rfm_df.shape}\")\n",
    "print(f\"Geospatial Data Shape: {geo_df.shape}\")\n",
    "print(f\"Product Data Shape: {product_df.shape}\")"
   ]
  },
  {
   "cell_type": "markdown",
   "metadata": {
    "id": "MMi6xGaDkbCi"
   },
   "source": [
    "**Insight:**\n",
    "\n",
    "**Data sudah berhasil digabungkan, Sekarang  terdapat dua dataset utama:**\n",
    "- RFM Data (untuk analisis transaksi pelanggan)\n",
    "- Geospatial Data (untuk analisis lokasi pelanggan)\n",
    "  \n",
    "**Hubungan antar data sudah jelas**\n",
    "- *customer_id* menghubungkan pelanggan dengan transaksi mereka.\n",
    "- *order_id* menghubungkan pesanan dengan pembayaran & ulasan.\n",
    "- *customer_zip_code_prefix* bisa dikaitkan dengan data geolocation."
   ]
  },
  {
   "cell_type": "markdown",
   "metadata": {
    "id": "FHSiqaZp8DC1"
   },
   "source": [
    "### Assessing Data"
   ]
  },
  {
   "cell_type": "code",
   "execution_count": 19,
   "metadata": {
    "id": "ax-3tEjc9Cj1"
   },
   "outputs": [
    {
     "name": "stdout",
     "output_type": "stream",
     "text": [
      "============= RFM Data Info =============\n",
      "<class 'pandas.core.frame.DataFrame'>\n",
      "RangeIndex: 117601 entries, 0 to 117600\n",
      "Data columns (total 22 columns):\n",
      " #   Column                         Non-Null Count   Dtype         \n",
      "---  ------                         --------------   -----         \n",
      " 0   order_id                       117601 non-null  object        \n",
      " 1   customer_id                    117601 non-null  object        \n",
      " 2   order_status                   117601 non-null  object        \n",
      " 3   order_purchase_timestamp       117601 non-null  datetime64[ns]\n",
      " 4   order_approved_at              117601 non-null  datetime64[ns]\n",
      " 5   order_delivered_carrier_date   117601 non-null  datetime64[ns]\n",
      " 6   order_delivered_customer_date  117601 non-null  datetime64[ns]\n",
      " 7   order_estimated_delivery_date  117601 non-null  datetime64[ns]\n",
      " 8   order_item_id                  117601 non-null  int64         \n",
      " 9   product_id                     117601 non-null  object        \n",
      " 10  seller_id                      117601 non-null  object        \n",
      " 11  shipping_limit_date            117601 non-null  datetime64[ns]\n",
      " 12  price                          117601 non-null  float64       \n",
      " 13  freight_value                  117601 non-null  float64       \n",
      " 14  payment_sequential             117601 non-null  int64         \n",
      " 15  payment_type                   117601 non-null  object        \n",
      " 16  payment_installments           117601 non-null  int64         \n",
      " 17  payment_value                  117601 non-null  float64       \n",
      " 18  customer_unique_id             117601 non-null  object        \n",
      " 19  customer_zip_code_prefix       117601 non-null  int64         \n",
      " 20  customer_city                  117601 non-null  object        \n",
      " 21  customer_state                 117601 non-null  object        \n",
      "dtypes: datetime64[ns](6), float64(3), int64(4), object(9)\n",
      "memory usage: 19.7+ MB\n",
      "\n",
      "============= Geospatial Data Info =============\n",
      "<class 'pandas.core.frame.DataFrame'>\n",
      "Index: 15083455 entries, 0 to 15083732\n",
      "Data columns (total 17 columns):\n",
      " #   Column                         Dtype         \n",
      "---  ------                         -----         \n",
      " 0   order_id                       object        \n",
      " 1   customer_id                    object        \n",
      " 2   order_status                   object        \n",
      " 3   order_purchase_timestamp       datetime64[ns]\n",
      " 4   order_approved_at              datetime64[ns]\n",
      " 5   order_delivered_carrier_date   datetime64[ns]\n",
      " 6   order_delivered_customer_date  datetime64[ns]\n",
      " 7   order_estimated_delivery_date  datetime64[ns]\n",
      " 8   customer_unique_id             object        \n",
      " 9   customer_zip_code_prefix       int64         \n",
      " 10  customer_city                  object        \n",
      " 11  customer_state                 object        \n",
      " 12  geolocation_zip_code_prefix    float64       \n",
      " 13  geolocation_lat                float64       \n",
      " 14  geolocation_lng                float64       \n",
      " 15  geolocation_city               object        \n",
      " 16  geolocation_state              object        \n",
      "dtypes: datetime64[ns](5), float64(3), int64(1), object(8)\n",
      "memory usage: 2.0+ GB\n",
      "\n",
      "============= Product Data Info =============\n",
      "<class 'pandas.core.frame.DataFrame'>\n",
      "RangeIndex: 112650 entries, 0 to 112649\n",
      "Data columns (total 16 columns):\n",
      " #   Column                         Non-Null Count   Dtype  \n",
      "---  ------                         --------------   -----  \n",
      " 0   order_id                       112650 non-null  object \n",
      " 1   order_item_id                  112650 non-null  int64  \n",
      " 2   product_id                     112650 non-null  object \n",
      " 3   seller_id                      112650 non-null  object \n",
      " 4   shipping_limit_date            112650 non-null  object \n",
      " 5   price                          112650 non-null  float64\n",
      " 6   freight_value                  112650 non-null  float64\n",
      " 7   product_category_name          112650 non-null  object \n",
      " 8   product_name_lenght            112650 non-null  object \n",
      " 9   product_description_lenght     112650 non-null  object \n",
      " 10  product_photos_qty             112650 non-null  object \n",
      " 11  product_weight_g               112650 non-null  float64\n",
      " 12  product_length_cm              112650 non-null  float64\n",
      " 13  product_height_cm              112650 non-null  float64\n",
      " 14  product_width_cm               112650 non-null  float64\n",
      " 15  product_category_name_english  112650 non-null  object \n",
      "dtypes: float64(6), int64(1), object(9)\n",
      "memory usage: 13.8+ MB\n",
      "\n",
      "============= Missing Values di RFM Data =============\n",
      "Tidak ada missing values.\n",
      "\n",
      "\n",
      "============= Missing Values di Geospatial Data =============\n",
      "Tidak ada missing values.\n",
      "\n",
      "\n",
      "============= Missing Values di Product Data =============\n",
      "Tidak ada missing values.\n",
      "\n",
      "\n",
      "============= Jumlah Duplikat di Dataset =============\n",
      "Total duplikat di RFM Data: 0\n",
      "Total duplikat di Geospatial Data: 4755727\n",
      "Total duplikat di Product Data: 0\n",
      "\n",
      "============= Duplikasi Berdasarkan Primary Key =============\n",
      "Duplikasi 'order_id' di RFM Data: 18936\n",
      "Duplikasi 'customer_id' di Geospatial Data: 14984292\n",
      "Duplikasi 'product_id' di Product Data: 79699\n",
      "\n",
      "============= Nilai Unik pada Kolom Penting =============\n",
      "Jumlah unique customer_id di RFM Data: 98665 dari 117601 baris\n",
      "Jumlah unique order_id di RFM Data: 98665 dari 117601 baris\n",
      "Jumlah unique product_id di Product Data: 32951 dari 112650 baris\n"
     ]
    }
   ],
   "source": [
    "\n",
    "# Cek info dasar tiap dataset\n",
    "print(\"============= RFM Data Info =============\")\n",
    "rfm_df.info()\n",
    "print(\"\\n============= Geospatial Data Info =============\")\n",
    "geo_df.info()\n",
    "print(\"\\n============= Product Data Info =============\")\n",
    "product_df.info()\n",
    "\n",
    "# Cek Missing Values dengan persentase\n",
    "def missing_values_table(df, name):\n",
    "    print(f\"\\n============= Missing Values di {name} Data =============\")\n",
    "    missing_values = df.isnull().sum()\n",
    "    missing_percentage = (missing_values / len(df)) * 100\n",
    "    missing_table = pd.DataFrame({'Column': df.columns, 'Missing Values': missing_values, 'Percentage': missing_percentage})\n",
    "    missing_table = missing_table[missing_table['Missing Values'] > 0].reset_index(drop=True)  # Hanya tampilkan yang memiliki missing values\n",
    "    if missing_table.empty:\n",
    "        print(\"Tidak ada missing values.\\n\")\n",
    "    else:\n",
    "        print(missing_table)\n",
    "    return missing_table  \n",
    "\n",
    "# Cek missing values di semua dataset\n",
    "missing_values_table(rfm_df, \"RFM\")\n",
    "missing_values_table(geo_df, \"Geospatial\")\n",
    "missing_values_table(product_df, \"Product\")\n",
    "\n",
    "# Cek jumlah duplikasi di dataset\n",
    "print(\"\\n============= Jumlah Duplikat di Dataset =============\")\n",
    "print(f\"Total duplikat di RFM Data: {rfm_df.duplicated().sum()}\")\n",
    "print(f\"Total duplikat di Geospatial Data: {geo_df.duplicated().sum()}\")\n",
    "print(f\"Total duplikat di Product Data: {product_df.duplicated().sum()}\")\n",
    "\n",
    "# Cek duplikasi berdasarkan Primary Key\n",
    "print(\"\\n============= Duplikasi Berdasarkan Primary Key =============\")\n",
    "print(f\"Duplikasi 'order_id' di RFM Data: {rfm_df['order_id'].duplicated().sum()}\")\n",
    "print(f\"Duplikasi 'customer_id' di Geospatial Data: {geo_df['customer_id'].duplicated().sum()}\")\n",
    "print(f\"Duplikasi 'product_id' di Product Data: {product_df['product_id'].duplicated().sum()}\")\n",
    "\n",
    "# Cek nilai unik pada kolom kunci\n",
    "print(\"\\n============= Nilai Unik pada Kolom Penting =============\")\n",
    "print(f\"Jumlah unique customer_id di RFM Data: {rfm_df['customer_id'].nunique()} dari {len(rfm_df)} baris\")\n",
    "print(f\"Jumlah unique order_id di RFM Data: {rfm_df['order_id'].nunique()} dari {len(rfm_df)} baris\")\n",
    "print(f\"Jumlah unique product_id di Product Data: {product_df['product_id'].nunique()} dari {len(product_df)} baris\")\n"
   ]
  },
  {
   "cell_type": "markdown",
   "metadata": {
    "id": "7dtxhAPrkhPL"
   },
   "source": [
    "**Insight:**\n",
    "\n",
    "**Terdapat banyak data yang hilang (missing values)**\n",
    "- RFM Data:\n",
    "  - *order_approved_at* kosong di **175** baris → kemungkinan order belum diproses.\n",
    "  - *order_delivered_customer_date* kosong di **3.132** baris → ada order yang belum terkirim atau datanya hilang.\n",
    "- Geospatial Data:\n",
    "  - geolocation_zip_code_prefix kosong di 281 baris → ada lokasi pelanggan yang tidak ditemukan.\n",
    "  - *review_comment_message* kosong di **9.127.309** baris → mayoritas pelanggan tidak memberi review tertulis, hanya memberi skor.\n",
    "\n",
    "**Terdapat banyak duplikasi di Geospatial Data**\n",
    "- **4.783.853** baris duplikat → kemungkinan data lokasi yang berulang atau pelanggan muncul lebih dari sekali.\n",
    "\n",
    "**Perbedaan tipe data yang perlu diperbaiki**\n",
    "- Kolom tanggal (*order_purchase_timestamp, order_approved_at, dll.*) masih dalam format **string**, sebaiknya dikonversi ke **datetime**.\n",
    "- *geolocation_zip_code_prefix* di Geospatial Data bertipe float, padahal di dataset lain bertipe **int**, sehingga bisa menyebabkan error saat merge.\n",
    "\n",
    "**Potensi masalah pada status order**\n",
    "- Ada order yang **mungkin belum diproses** (order_approved_at kosong).\n",
    "- Ada order yang **belum terkirim** (order_delivered_customer_date kosong).\n",
    "- Perlu dicek apakah ada order yang statusnya \"**canceled**\" atau \"**unavailable**\".\n",
    "\n"
   ]
  },
  {
   "cell_type": "markdown",
   "metadata": {
    "id": "EhN5R4hr8DC1"
   },
   "source": [
    "### Cleaning Data"
   ]
  },
  {
   "cell_type": "code",
   "execution_count": 28,
   "metadata": {
    "id": "jVnYpprE9Evz"
   },
   "outputs": [
    {
     "name": "stdout",
     "output_type": "stream",
     "text": [
      "Missing values setelah cleaning:\n",
      "order_id                         0\n",
      "customer_id                      0\n",
      "order_status                     0\n",
      "order_purchase_timestamp         0\n",
      "order_approved_at                0\n",
      "order_delivered_carrier_date     0\n",
      "order_delivered_customer_date    0\n",
      "order_estimated_delivery_date    0\n",
      "order_item_id                    0\n",
      "product_id                       0\n",
      "seller_id                        0\n",
      "shipping_limit_date              0\n",
      "price                            0\n",
      "freight_value                    0\n",
      "payment_sequential               0\n",
      "payment_type                     0\n",
      "payment_installments             0\n",
      "payment_value                    0\n",
      "customer_unique_id               0\n",
      "customer_zip_code_prefix         0\n",
      "customer_city                    0\n",
      "customer_state                   0\n",
      "recency                          0\n",
      "cluster_x                        0\n",
      "cluster_y                        0\n",
      "dtype: int64\n",
      "order_id                         0\n",
      "customer_id                      0\n",
      "order_status                     0\n",
      "order_purchase_timestamp         0\n",
      "order_approved_at                0\n",
      "order_delivered_carrier_date     0\n",
      "order_delivered_customer_date    0\n",
      "order_estimated_delivery_date    0\n",
      "customer_unique_id               0\n",
      "customer_zip_code_prefix         0\n",
      "customer_city                    0\n",
      "customer_state                   0\n",
      "geolocation_zip_code_prefix      0\n",
      "geolocation_lat                  0\n",
      "geolocation_lng                  0\n",
      "geolocation_city                 0\n",
      "geolocation_state                0\n",
      "dtype: int64\n",
      "order_id                         0\n",
      "order_item_id                    0\n",
      "product_id                       0\n",
      "seller_id                        0\n",
      "shipping_limit_date              0\n",
      "price                            0\n",
      "freight_value                    0\n",
      "product_category_name            0\n",
      "product_name_lenght              0\n",
      "product_description_lenght       0\n",
      "product_photos_qty               0\n",
      "product_weight_g                 0\n",
      "product_length_cm                0\n",
      "product_height_cm                0\n",
      "product_width_cm                 0\n",
      "product_category_name_english    0\n",
      "dtype: int64\n",
      "Duplikasi 'order_id' di RFM Data: 0\n",
      "Duplikasi 'customer_id' di Geospatial Data: 0\n",
      "Duplikasi 'product_id' di Product Data: 0\n",
      "Duplikasi 'order_id' di RFM Data setelah dihapus: 0\n",
      "Duplikasi 'customer_id' di Geospatial Data setelah dihapus: 0\n",
      "Duplikasi 'product_id' di Product Data setelah dihapus: 0\n"
     ]
    }
   ],
   "source": [
    "# 1. Konversi kolom bertipe datetime\n",
    "datetime_cols = [\n",
    "    'order_purchase_timestamp', 'order_approved_at',\n",
    "    'order_delivered_carrier_date', 'order_delivered_customer_date',\n",
    "    'order_estimated_delivery_date', 'shipping_limit_date'\n",
    "]\n",
    "\n",
    "# 2. Mengubah tipe data geolocation_zip_code_prefix menjadi int64\n",
    "geo_df['geolocation_zip_code_prefix'] = geo_df['geolocation_zip_code_prefix'].astype('int64')\n",
    "\n",
    "for col in datetime_cols:\n",
    "    rfm_df[col] = pd.to_datetime(rfm_df[col], errors='coerce')\n",
    "\n",
    "for col in datetime_cols:\n",
    "    if col in geo_df.columns:\n",
    "        geo_df[col] = pd.to_datetime(geo_df[col], errors='coerce')\n",
    "\n",
    "# 3. Handling Missing Values di RFM Data\n",
    "rfm_df['order_approved_at'] = rfm_df['order_approved_at'].fillna(rfm_df['order_purchase_timestamp'])\n",
    "\n",
    "# Mengisi order_delivered_carrier_date dengan median dari data yang tidak null\n",
    "median_carrier_date = rfm_df['order_delivered_carrier_date'].dropna().median()\n",
    "rfm_df['order_delivered_carrier_date'] = rfm_df['order_delivered_carrier_date'].fillna(median_carrier_date)\n",
    "\n",
    "# 4. Handling Missing Values di Geospatial Data\n",
    "geo_df['order_approved_at'] = geo_df['order_approved_at'].fillna(geo_df['order_purchase_timestamp'])\n",
    "\n",
    "# Hapus baris dengan missing values di kolom geolocation karena jumlahnya sangat kecil\n",
    "geo_df = geo_df.dropna(subset=['geolocation_zip_code_prefix', 'geolocation_lat', 'geolocation_lng', 'geolocation_city', 'geolocation_state'])\n",
    "\n",
    "# 5. Handling Missing Values di Product Data\n",
    "fill_unknown = ['product_category_name', 'product_name_lenght', 'product_description_lenght', 'product_photos_qty', 'product_category_name_english']\n",
    "for col in fill_unknown:\n",
    "    product_df[col] = product_df[col].fillna(\"Unknown\").astype(str)  # Cast ke str agar tidak ada warning dtype\n",
    "\n",
    "# Mengisi atribut ukuran dan berat produk dengan median dari kategori yang sama\n",
    "size_weight_cols = ['product_weight_g', 'product_length_cm', 'product_height_cm', 'product_width_cm']\n",
    "for col in size_weight_cols:\n",
    "    product_df[col] = product_df.groupby('product_category_name')[col].transform(lambda x: x.fillna(x.median()))\n",
    "\n",
    "# Isi missing order_delivered_customer_date dengan order_estimated_delivery_date jika ada\n",
    "rfm_df['order_delivered_customer_date'] = rfm_df['order_delivered_customer_date'].fillna(rfm_df['order_estimated_delivery_date'])\n",
    "\n",
    "# Jika masih ada missing, isi dengan median delay antara order_purchase_timestamp dan order_delivered_customer_date\n",
    "median_delivery_time = (rfm_df['order_delivered_customer_date'] - rfm_df['order_purchase_timestamp']).median()\n",
    "rfm_df['order_delivered_customer_date'] = rfm_df['order_delivered_customer_date'].fillna(rfm_df['order_purchase_timestamp'] + median_delivery_time)\n",
    "\n",
    "# Isi order_delivered_carrier_date dengan order_purchase_timestamp + median waktu antar carrier\n",
    "median_carrier_delay = (rfm_df['order_delivered_carrier_date'] - rfm_df['order_purchase_timestamp']).median()\n",
    "rfm_df['order_delivered_carrier_date'] = rfm_df['order_delivered_carrier_date'].fillna(rfm_df['order_purchase_timestamp'] + median_carrier_delay)\n",
    "\n",
    "# Lakukan hal yang sama untuk geo_df\n",
    "geo_df['order_delivered_customer_date'] = geo_df['order_delivered_customer_date'].fillna(geo_df['order_estimated_delivery_date'])\n",
    "geo_df['order_delivered_customer_date'] = geo_df['order_delivered_customer_date'].fillna(geo_df['order_purchase_timestamp'] + median_delivery_time)\n",
    "\n",
    "geo_df['order_delivered_carrier_date'] = geo_df['order_delivered_carrier_date'].fillna(geo_df['order_purchase_timestamp'] + median_carrier_delay)\n",
    "\n",
    "\n",
    "# 6. Cek apakah masih ada missing values\n",
    "print(\"Missing values setelah cleaning:\")\n",
    "print(rfm_df.isnull().sum())\n",
    "print(geo_df.isnull().sum())\n",
    "print(product_df.isnull().sum())\n",
    "\n",
    "# 7. Cek duplikasi berdasarkan order_id di rfm_df\n",
    "print(f\"Duplikasi 'order_id' di RFM Data: {rfm_df['order_id'].duplicated().sum()}\")\n",
    "# 8. Cek duplikasi berdasarkan customer_id di geo_df\n",
    "print(f\"Duplikasi 'customer_id' di Geospatial Data: {geo_df['customer_id'].duplicated().sum()}\")\n",
    "# 9. Cek duplikasi berdasarkan product_id di product_df\n",
    "print(f\"Duplikasi 'product_id' di Product Data: {product_df['product_id'].duplicated().sum()}\")\n",
    "\n",
    "# 10. Hapus duplikasi yang benar-benar tidak relevan\n",
    "# Hapus duplikasi berdasarkan 'order_id' di RFM Data (jaga entri pertama)\n",
    "rfm_df = rfm_df.drop_duplicates(subset='order_id', keep='first')\n",
    "\n",
    "# Hapus duplikasi berdasarkan 'customer_id' di Geospatial Data (jaga entri pertama)\n",
    "geo_df = geo_df.drop_duplicates(subset='customer_id', keep='first')\n",
    "\n",
    "# Hapus duplikasi berdasarkan 'product_id' di Product Data (jaga entri pertama)\n",
    "product_df = product_df.drop_duplicates(subset='product_id', keep='first')\n",
    "\n",
    "# Cek apakah masih ada duplikasi setelah dihapus\n",
    "print(f\"Duplikasi 'order_id' di RFM Data setelah dihapus: {rfm_df['order_id'].duplicated().sum()}\")\n",
    "print(f\"Duplikasi 'customer_id' di Geospatial Data setelah dihapus: {geo_df['customer_id'].duplicated().sum()}\")\n",
    "print(f\"Duplikasi 'product_id' di Product Data setelah dihapus: {product_df['product_id'].duplicated().sum()}\")"
   ]
  },
  {
   "cell_type": "markdown",
   "metadata": {
    "id": "gp-Y6wU38DC1"
   },
   "source": [
    "## Exploratory Data Analysis (EDA)"
   ]
  },
  {
   "cell_type": "markdown",
   "metadata": {
    "id": "MW7WF2kr8DC1"
   },
   "source": [
    "### Explore ..."
   ]
  },
  {
   "cell_type": "code",
   "execution_count": 48,
   "metadata": {
    "id": "e9CQCZjk8DC2",
    "scrolled": true
   },
   "outputs": [
    {
     "name": "stdout",
     "output_type": "stream",
     "text": [
      "Kategori dengan Jumlah Transaksi Tertinggi:\n",
      "                             product_id  frequency  monetary  recency  \\\n",
      "54875  99a4788cb24856965c36a24e339b6058        439  38711.36      256   \n",
      "54881  99a4788cb24856965c36a24e339b6058        439  38711.36      194   \n",
      "54892  99a4788cb24856965c36a24e339b6058        439  38711.36      108   \n",
      "54891  99a4788cb24856965c36a24e339b6058        439  38711.36      175   \n",
      "54890  99a4788cb24856965c36a24e339b6058        439  38711.36      265   \n",
      "54889  99a4788cb24856965c36a24e339b6058        439  38711.36      508   \n",
      "54888  99a4788cb24856965c36a24e339b6058        439  38711.36      200   \n",
      "54887  99a4788cb24856965c36a24e339b6058        439  38711.36      373   \n",
      "54886  99a4788cb24856965c36a24e339b6058        439  38711.36      489   \n",
      "54855  99a4788cb24856965c36a24e339b6058        439  38711.36       85   \n",
      "\n",
      "       total_transactions  total_sales  \n",
      "54875                 439     38711.36  \n",
      "54881                 439     38711.36  \n",
      "54892                 439     38711.36  \n",
      "54891                 439     38711.36  \n",
      "54890                 439     38711.36  \n",
      "54889                 439     38711.36  \n",
      "54888                 439     38711.36  \n",
      "54887                 439     38711.36  \n",
      "54886                 439     38711.36  \n",
      "54855                 439     38711.36  \n",
      "\n",
      "Kategori dengan Total Penjualan Tertinggi:\n",
      "                             product_id  frequency  monetary  recency  \\\n",
      "66652  bb50f2e236e5eea0100680137654686c        187   61245.0       36   \n",
      "66651  bb50f2e236e5eea0100680137654686c        187   61245.0      342   \n",
      "66663  bb50f2e236e5eea0100680137654686c        187   61245.0      230   \n",
      "66662  bb50f2e236e5eea0100680137654686c        187   61245.0      149   \n",
      "66661  bb50f2e236e5eea0100680137654686c        187   61245.0      185   \n",
      "66660  bb50f2e236e5eea0100680137654686c        187   61245.0       58   \n",
      "66659  bb50f2e236e5eea0100680137654686c        187   61245.0      109   \n",
      "66658  bb50f2e236e5eea0100680137654686c        187   61245.0      180   \n",
      "66657  bb50f2e236e5eea0100680137654686c        187   61245.0      136   \n",
      "66656  bb50f2e236e5eea0100680137654686c        187   61245.0       79   \n",
      "\n",
      "       total_transactions  total_sales  \n",
      "66652                 187      61245.0  \n",
      "66651                 187      61245.0  \n",
      "66663                 187      61245.0  \n",
      "66662                 187      61245.0  \n",
      "66661                 187      61245.0  \n",
      "66660                 187      61245.0  \n",
      "66659                 187      61245.0  \n",
      "66658                 187      61245.0  \n",
      "66657                 187      61245.0  \n",
      "66656                 187      61245.0  \n",
      "\n",
      "Kategori dengan Jumlah Transaksi Terendah:\n",
      "                             product_id  frequency  monetary  recency  \\\n",
      "68751  c1a7082fb76e37a467ef216e92ee0423          1     62.45      423   \n",
      "68750  c1a159ff9f24b6ef25cd3f2ae8d3556d          1     75.00      389   \n",
      "68749  c1a06e885e363ce94a917ac747be25c3          1    107.99       76   \n",
      "68761  c1aabbb6f4caec9f5bf7cd80519d6cc0          1     39.90       63   \n",
      "68789  c1b29a8717b892e82865e123083736c5          1     93.49      188   \n",
      "68788  c1b1fa3428453960653af124b17ab165          1    267.00      268   \n",
      "68785  c1af5ce247fd5fd18c52ba645c3c87b6          1     24.90      178   \n",
      "68724  c18c01e09509a509e2b88d3ed40c580e          1    229.99      144   \n",
      "68723  c18b9716f7bfbff80fd3e41cee298c98          1     14.90      100   \n",
      "68716  c18ab1f0dc1937464d516ca610408e26          1     18.49       10   \n",
      "\n",
      "       total_transactions  total_sales  \n",
      "68751                   1        62.45  \n",
      "68750                   1        75.00  \n",
      "68749                   1       107.99  \n",
      "68761                   1        39.90  \n",
      "68789                   1        93.49  \n",
      "68788                   1       267.00  \n",
      "68785                   1        24.90  \n",
      "68724                   1       229.99  \n",
      "68723                   1        14.90  \n",
      "68716                   1        18.49  \n",
      "\n",
      "Kategori dengan Total Penjualan Terendah:\n",
      "                             product_id  frequency  monetary  recency  \\\n",
      "13824  270516a3f41dc035aa87d220228f844c          1      1.20      413   \n",
      "49679  8a3254bee785a526d548a81a9bc3c9be          2      1.70      131   \n",
      "25835  46fce52cef5caa7cc225a5531c946c8b          1      2.20        8   \n",
      "17085  310dc32058903b6416c71faff132df9e          1      2.29      354   \n",
      "37671  680cc8535be7cc69544238c1d6a83fe8          1      2.90      605   \n",
      "16274  2e8316b31db34314f393806fd7b6e185          1      2.99      213   \n",
      "14638  29781581fb82fe2389560a3a5331d0ee          1      3.06       47   \n",
      "29900  5304ff3fa35856a156e1170a6022d34d          1      3.50      489   \n",
      "5228   0eeeb45e2f5911fd44282e5bb0c624ff          1      3.85       72   \n",
      "78660  dc9f66a56b89e4278d921898a861a29a          1      3.90      584   \n",
      "\n",
      "       total_transactions  total_sales  \n",
      "13824                   1         1.20  \n",
      "49679                   2         1.70  \n",
      "25835                   1         2.20  \n",
      "17085                   1         2.29  \n",
      "37671                   1         2.90  \n",
      "16274                   1         2.99  \n",
      "14638                   1         3.06  \n",
      "29900                   1         3.50  \n",
      "5228                    1         3.85  \n",
      "78660                   1         3.90  \n"
     ]
    }
   ],
   "source": [
    "# Menghitung Recency (R), Frequency (F), dan Monetary (M) untuk setiap produk\n",
    "rfm_df['order_purchase_timestamp'] = pd.to_datetime(rfm_df['order_purchase_timestamp'])\n",
    "most_recent_purchase = rfm_df['order_purchase_timestamp'].max()\n",
    "\n",
    "# Menghitung Recency (R)\n",
    "rfm_df['recency'] = (most_recent_purchase - rfm_df['order_purchase_timestamp']).dt.days\n",
    "\n",
    "# Menghitung Frequency (F)\n",
    "rfm_frequency = rfm_df.groupby('product_id')['order_id'].count().reset_index()\n",
    "rfm_frequency.columns = ['product_id', 'frequency']\n",
    "\n",
    "# Menghitung Monetary (M)\n",
    "rfm_monetary = rfm_df.groupby('product_id')['price'].sum().reset_index()\n",
    "rfm_monetary.columns = ['product_id', 'monetary']\n",
    "\n",
    "# Gabungkan hasil Recency, Frequency, dan Monetary\n",
    "rfm = pd.merge(rfm_frequency, rfm_monetary, on='product_id', how='left')\n",
    "rfm = pd.merge(rfm, rfm_df[['product_id', 'recency']].drop_duplicates(), on='product_id', how='left')\n",
    "\n",
    "# Gabungkan dengan data kategori produk (misalnya, kategori produk ada dalam kolom 'category')\n",
    "category_performance = rfm_df.groupby('product_id').agg(\n",
    "    total_transactions=('order_id', 'count'),  # Jumlah transaksi\n",
    "    total_sales=('price', 'sum')               # Total penjualan\n",
    ").reset_index()\n",
    "\n",
    "# Gabungkan performa kategori dengan RFM\n",
    "rfm_performance = pd.merge(rfm, category_performance, on='product_id', how='left')\n",
    "\n",
    "# Menampilkan kategori produk berdasarkan performa dalam jumlah transaksi dan total penjualan\n",
    "top_transaction_category = rfm_performance.sort_values(by='total_transactions', ascending=False).head(10)\n",
    "print(\"Kategori dengan Jumlah Transaksi Tertinggi:\")\n",
    "print(top_transaction_category)\n",
    "\n",
    "top_sales_category = rfm_performance.sort_values(by='total_sales', ascending=False).head(10)\n",
    "print(\"\\nKategori dengan Total Penjualan Tertinggi:\")\n",
    "print(top_sales_category)\n",
    "\n",
    "# Menampilkan kategori dengan transaksi dan penjualan terendah\n",
    "low_transaction_category = rfm_performance.sort_values(by='total_transactions', ascending=True).head(10)\n",
    "low_sales_category = rfm_performance.sort_values(by='total_sales', ascending=True).head(10)\n",
    "\n",
    "print(\"\\nKategori dengan Jumlah Transaksi Terendah:\")\n",
    "print(low_transaction_category)\n",
    "\n",
    "print(\"\\nKategori dengan Total Penjualan Terendah:\")\n",
    "print(low_sales_category)\n"
   ]
  },
  {
   "cell_type": "markdown",
   "metadata": {
    "id": "th_Lzl2Fkj9O"
   },
   "source": [
    "**Insight:**\n",
    "- xxx\n",
    "- xxx"
   ]
  },
  {
   "cell_type": "markdown",
   "metadata": {
    "id": "zsyZjqak8DC2"
   },
   "source": [
    "## Visualization & Explanatory Analysis"
   ]
  },
  {
   "cell_type": "markdown",
   "metadata": {
    "id": "HZxOiQ6n8DC2"
   },
   "source": [
    "### Pertanyaan 1:"
   ]
  },
  {
   "cell_type": "code",
   "execution_count": 46,
   "metadata": {
    "id": "1swJUdAD8DC2"
   },
   "outputs": [
    {
     "name": "stdout",
     "output_type": "stream",
     "text": [
      "Jumlah outlier yang akan dihapus: 7683 dari 98665\n"
     ]
    },
    {
     "data": {
      "image/png": "[encoded data removed]",
      "text/plain": [
       "<Figure size 1000x500 with 1 Axes>"
      ]
     },
     "metadata": {},
     "output_type": "display_data"
    }
   ],
   "source": [
    "# Hitung Q1 dan Q3\n",
    "Q1 = rfm_df[\"payment_value\"].quantile(0.25)\n",
    "Q3 = rfm_df[\"payment_value\"].quantile(0.75)\n",
    "IQR = Q3 - Q1\n",
    "\n",
    "# Tentukan batas bawah & atas\n",
    "lower_bound = Q1 - 1.5 * IQR\n",
    "upper_bound = Q3 + 1.5 * IQR\n",
    "\n",
    "# Hitung jumlah data yang akan dihapus\n",
    "outliers = rfm_df[(rfm_df[\"payment_value\"] < lower_bound) | (rfm_df[\"payment_value\"] > upper_bound)]\n",
    "print(f\"Jumlah outlier yang akan dihapus: {len(outliers)} dari {len(rfm_df)}\")\n",
    "\n",
    "# Jika mau hapus outlier:\n",
    "rfm_df_clean = rfm_df[(rfm_df[\"payment_value\"] >= lower_bound) & (rfm_df[\"payment_value\"] <= upper_bound)]\n",
    "\n",
    "\n",
    "# Cek distribusi payment_value\n",
    "plt.figure(figsize=(10, 5))\n",
    "sns.boxplot(x=rfm_df[\"payment_value\"])\n",
    "plt.title(\"Boxplot of Payment Value\")\n",
    "plt.show()"
   ]
  },
  {
   "cell_type": "markdown",
   "metadata": {
    "id": "DgHI7CiU8DC2"
   },
   "source": [
    "### Pertanyaan 2:"
   ]
  },
  {
   "cell_type": "code",
   "execution_count": null,
   "metadata": {
    "id": "Go0lCsvO8DC2"
   },
   "outputs": [],
   "source": []
  },
  {
   "cell_type": "markdown",
   "metadata": {
    "id": "_0-36BDLklRg"
   },
   "source": [
    "**Insight:**\n",
    "- xxx\n",
    "- xxx"
   ]
  },
  {
   "cell_type": "markdown",
   "metadata": {
    "id": "9y4VUsmcYNZ5"
   },
   "source": [
    "## Analisis Lanjutan (Opsional)"
   ]
  },
  {
   "cell_type": "code",
   "execution_count": null,
   "metadata": {
    "id": "iWhnzsJGYUCO"
   },
   "outputs": [],
   "source": []
  },
  {
   "cell_type": "markdown",
   "metadata": {
    "id": "_WeHlCeX8DC2"
   },
   "source": [
    "## Conclusion"
   ]
  },
  {
   "cell_type": "markdown",
   "metadata": {
    "id": "ZTcyR48Y8DC2"
   },
   "source": [
    "- Conclution pertanyaan 1\n",
    "- Conclution pertanyaan 2"
   ]
  }
 ],
 "metadata": {
  "colab": {
   "provenance": []
  },
  "kernelspec": {
   "display_name": "Python 3 (ipykernel)",
   "language": "python",
   "name": "python3"
  },
  "language_info": {
   "codemirror_mode": {
    "name": "ipython",
    "version": 3
   },
   "file_extension": ".py",
   "mimetype": "text/x-python",
   "name": "python",
   "nbconvert_exporter": "python",
   "pygments_lexer": "ipython3",
   "version": "3.12.5"
  },
  "vscode": {
   "interpreter": {
    "hash": "972b3bf27e332e87b5379f2791f6ef9dfc79c71018c370b0d7423235e20fe4d7"
   }
  }
 },
 "nbformat": 4,
 "nbformat_minor": 4
}

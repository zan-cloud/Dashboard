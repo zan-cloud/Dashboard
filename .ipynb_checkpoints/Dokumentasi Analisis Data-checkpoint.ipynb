{
 "cells": [
  {
   "cell_type": "markdown",
   "id": "0664e46f-2e24-46e3-b061-7190283ebda0",
   "metadata": {},
   "source": [
    "# **Dokumentasi Analisis Data**\n",
    "\n",
    "## **1. Pengumpulan Data**\n",
    "Tahap awal dalam analisis data adalah mengumpulkan dataset yang relevan. Dataset yang digunakan dalam analisis ini mencakup tiga tabel utama:\n",
    "- **Orders**: Berisi informasi tentang transaksi pelanggan, termasuk tanggal pembelian dan status pesanan.\n",
    "- **Order Items**: Berisi detail produk yang dibeli dalam setiap pesanan.\n",
    "- **Products**: Berisi informasi produk, termasuk kategori dan atribut produk lainnya.\n",
    "\n",
    "## **2. Pembersihan Data (Data Cleaning)**\n",
    "Agar data siap untuk dianalisis, dilakukan beberapa langkah pembersihan:\n",
    "- **Menghapus duplikasi**: Menghilangkan data yang muncul lebih dari sekali untuk menghindari perhitungan ganda.\n",
    "- **Menangani nilai yang hilang (Missing Values)**:\n",
    "  - Mengisi nilai kosong pada kategori produk dengan \"Unknown\".\n",
    "  - Mengisi nilai kosong pada atribut produk dengan nilai median.\n",
    "  - Mengisi order_approved_at dengan order_purchase_timestamp jika kosong.\n",
    "  - Mengisi tanggal pengiriman dengan estimasi pengiriman jika tidak tersedia.\n",
    "\n",
    "## **3. Transformasi Data**\n",
    "- **Mengubah format timestamp**: Semua kolom yang berisi data waktu diubah ke format datetime agar bisa dianalisis lebih lanjut.\n",
    "- **Menentukan periode analisis**: Mengambil data dalam rentang 6 bulan terakhir berdasarkan order_purchase_timestamp.\n",
    "\n",
    "## **4. Penggabungan Data (Merging Data)**\n",
    "- **Menggabungkan orders dengan order_items** untuk mendapatkan informasi detail produk dalam setiap pesanan.\n",
    "- **Menggabungkan hasil sebelumnya dengan products** untuk mendapatkan kategori produk.\n",
    "\n",
    "## **5. Analisis Data**\n",
    "### **Pertanyaan 1: Tren Pembelian dalam 6 Bulan Terakhir**\n",
    "- Menghitung jumlah order per kategori produk.\n",
    "- Membuat visualisasi dengan bar chart untuk melihat kategori yang paling banyak dibeli.\n",
    "\n",
    "### **Pertanyaan 2: Pola Pembelian One-Time Buyers**\n",
    "- Mengidentifikasi pelanggan yang hanya melakukan satu kali transaksi.\n",
    "- Menentukan kategori produk yang paling sering dibeli oleh one-time buyers.\n",
    "- Membandingkan pola pembelian one-time buyers dengan tren keseluruhan.\n",
    "\n",
    "## **6. Interpretasi Hasil dan Insight Bisnis**\n",
    "- **Kategori dengan permintaan tertinggi dalam 6 bulan terakhir**: Produk kecantikan & kesehatan, perlengkapan rumah tangga, dan aksesoris teknologi memiliki tingkat pembelian tertinggi.\n",
    "- **One-time buyers cenderung membeli produk sekali pakai**: Misalnya, perlengkapan rumah tangga dan dekorasi, menunjukkan bahwa pelanggan ini bukan target repeat purchase yang optimal.\n",
    "- **Peluang meningkatkan retensi pelanggan**: Kategori kecantikan memiliki potensi besar untuk repeat buyers, sehingga strategi pemasaran seperti diskon pembelian kedua bisa meningkatkan loyalitas pelanggan.\n",
    "\n",
    "## **7. Kesimpulan dan Rekomendasi**\n",
    "- Fokus pada kategori dengan permintaan tinggi untuk meningkatkan revenue.\n",
    "- Implementasi strategi retensi pelanggan dengan program loyalitas.\n",
    "- Melakukan segmentasi pelanggan berdasarkan pola pembelian untuk meningkatkan efektivitas kampanye pemasaran.\n",
    "\n",
    "Dokumentasi ini mencakup seluruh proses analisis dari awal hingga akhir untuk memastikan transparansi dan pemahaman yang jelas terhadap langkah-langkah yang dilakukan dalam penelitian ini.\n",
    "\n"
   ]
  },
  {
   "cell_type": "code",
   "execution_count": null,
   "id": "6b1e8263-529f-41f7-aceb-bb9bdc11061d",
   "metadata": {},
   "outputs": [],
   "source": []
  }
 ],
 "metadata": {
  "kernelspec": {
   "display_name": "Python 3 (ipykernel)",
   "language": "python",
   "name": "python3"
  },
  "language_info": {
   "codemirror_mode": {
    "name": "ipython",
    "version": 3
   },
   "file_extension": ".py",
   "mimetype": "text/x-python",
   "name": "python",
   "nbconvert_exporter": "python",
   "pygments_lexer": "ipython3",
   "version": "3.12.5"
  }
 },
 "nbformat": 4,
 "nbformat_minor": 5
}
